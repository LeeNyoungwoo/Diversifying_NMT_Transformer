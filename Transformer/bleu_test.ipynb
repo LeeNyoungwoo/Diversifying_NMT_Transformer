{
 "cells": [
  {
   "cell_type": "code",
   "execution_count": 1,
   "metadata": {},
   "outputs": [],
   "source": [
    "import numpy as np\n",
    "from nltk.translate.bleu_score import sentence_bleu\n",
    "from nltk.translate.bleu_score import SmoothingFunction\n",
    "\n",
    "def bleu_compute(reference, translation):\n",
    "    reference = reference.split()\n",
    "    translation = translation.split()\n",
    "    \n",
    "    return sentence_bleu([reference], translation, smoothing_function=SmoothingFunction().method7, weights=[1./3, 1./3, 1./3])\n",
    "\n",
    "def rfb_compute(bleu_score_list):\n",
    "    return sum(bleu_score_list) / len(bleu_score_list)\n",
    "\n",
    "def pwb_compute(translation_list):\n",
    "    pwb_score = []\n",
    "    for i in range(5):\n",
    "        for j in range(5):\n",
    "            if i == j:\n",
    "                continue\n",
    "            \n",
    "            pwb_score.append(bleu_compute(translation_list[i], translation_list[j]))\n",
    "    \n",
    "    assert len(pwb_score) == 20\n",
    "    \n",
    "    return sum(pwb_score) / len(pwb_score)\n",
    "\n",
    "def deq_compute(rfb, rfb_base, pwb, pwb_base):\n",
    "    return (pwb_base - pwb) / (rfb_base - rfb)"
   ]
  },
  {
   "cell_type": "code",
   "execution_count": 5,
   "metadata": {},
   "outputs": [],
   "source": [
    "reference = ['the only route to sustainable development is a recycle economy , which is based on the foundation of environmental protection and makes the most efficient use of resources .']"
   ]
  },
  {
   "cell_type": "code",
   "execution_count": 6,
   "metadata": {},
   "outputs": [],
   "source": [
    "translation_list = ['sustainable development is realized . only by taking the road of a cycle economy based on the availability of resources and environmental protection .',\n",
    "                    'only by taking the cycle of the economy based on the most effective use of resources and environmental protection can we achieve sustainable development .',\n",
    "                    'it is only through following the path of a cycle economy based on the most effective use of resources and environmental protection that sustainable development can be realized .',\n",
    "                    'sustainable development can only be realized if we take the most effective means of utilizing resources and protecting the environment .',\n",
    "                    'sustainable development can only be realized by taking the road of a cycle economy which is the most effective use of resources and environmental protection .']"
   ]
  },
  {
   "cell_type": "code",
   "execution_count": 7,
   "metadata": {},
   "outputs": [],
   "source": [
    "bleu_result = []\n",
    "for each in translation_list:\n",
    "    bleu_result.append(bleu_compute(reference[0], each))"
   ]
  },
  {
   "cell_type": "code",
   "execution_count": 8,
   "metadata": {},
   "outputs": [],
   "source": [
    "rfb_result = rfb_compute(bleu_result)"
   ]
  },
  {
   "cell_type": "code",
   "execution_count": 9,
   "metadata": {},
   "outputs": [
    {
     "name": "stdout",
     "output_type": "stream",
     "text": [
      "0.32374024018755365\n"
     ]
    }
   ],
   "source": [
    "print(rfb_result)"
   ]
  },
  {
   "cell_type": "code",
   "execution_count": 10,
   "metadata": {},
   "outputs": [],
   "source": [
    "pwb_result = pwb_compute(translation_list)"
   ]
  },
  {
   "cell_type": "code",
   "execution_count": 11,
   "metadata": {},
   "outputs": [
    {
     "name": "stdout",
     "output_type": "stream",
     "text": [
      "0.4939308819058551\n"
     ]
    }
   ],
   "source": [
    "print(pwb_result)"
   ]
  },
  {
   "cell_type": "code",
   "execution_count": null,
   "metadata": {},
   "outputs": [],
   "source": []
  }
 ],
 "metadata": {
  "kernelspec": {
   "display_name": "Python 3",
   "language": "python",
   "name": "python3"
  },
  "language_info": {
   "codemirror_mode": {
    "name": "ipython",
    "version": 3
   },
   "file_extension": ".py",
   "mimetype": "text/x-python",
   "name": "python",
   "nbconvert_exporter": "python",
   "pygments_lexer": "ipython3",
   "version": "3.6.9"
  }
 },
 "nbformat": 4,
 "nbformat_minor": 4
}
