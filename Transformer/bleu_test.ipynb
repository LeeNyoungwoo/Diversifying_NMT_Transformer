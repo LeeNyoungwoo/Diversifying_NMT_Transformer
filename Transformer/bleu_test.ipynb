{
 "cells": [
  {
   "cell_type": "code",
   "execution_count": 10,
   "metadata": {},
   "outputs": [],
   "source": [
    "import numpy as np\n",
    "from nltk.translate.bleu_score import corpus_bleu\n",
    "from nltk.translate.bleu_score import SmoothingFunction\n",
    "\n",
    "def bleu_compute(reference, translation):\n",
    "    reference = reference.split()\n",
    "    translation = translation.split()\n",
    "    print(reference, translation)\n",
    "    return corpus_bleu([reference], [translation], smoothing_function=SmoothingFunction().method7, weights=[1./3, 1./3, 1./3])\n",
    "\n",
    "def rfb_compute(bleu_score_list):\n",
    "    print(bleu_score_list)\n",
    "    return sum(bleu_score_list) / len(bleu_score_list)\n",
    "\n",
    "def pwb_compute(translation_list):\n",
    "    pwb_score = []\n",
    "    for i in range(5):\n",
    "        for j in range(5):\n",
    "            if i == j:\n",
    "                continue\n",
    "            \n",
    "            pwb_score.append(bleu_compute(translation_list[i], translation_list[j]))\n",
    "    \n",
    "    assert len(pwb_score) == 20\n",
    "    \n",
    "    return sum(pwb_score) / len(pwb_score)\n",
    "\n",
    "def deq_compute(rfb, rfb_base, pwb, pwb_base):\n",
    "    return (pwb_base - pwb) / (rfb_base - rfb)"
   ]
  },
  {
   "cell_type": "code",
   "execution_count": 5,
   "metadata": {},
   "outputs": [],
   "source": [
    "reference = ['the only route to sustainable development is a recycle economy , which is based on the foundation of environmental protection and makes the most efficient use of resources .']"
   ]
  },
  {
   "cell_type": "code",
   "execution_count": 6,
   "metadata": {},
   "outputs": [],
   "source": [
    "translation_list = ['sustainable development is realized . only by taking the road of a cycle economy based on the availability of resources and environmental protection .',\n",
    "                    'only by taking the cycle of the economy based on the most effective use of resources and environmental protection can we achieve sustainable development .',\n",
    "                    'it is only through following the path of a cycle economy based on the most effective use of resources and environmental protection that sustainable development can be realized .',\n",
    "                    'sustainable development can only be realized if we take the most effective means of utilizing resources and protecting the environment .',\n",
    "                    'sustainable development can only be realized by taking the road of a cycle economy which is the most effective use of resources and environmental protection .']"
   ]
  },
  {
   "cell_type": "code",
   "execution_count": 12,
   "metadata": {},
   "outputs": [],
   "source": [
    "refer = ['Sie', 'stehen', 'keine', '100', 'Meter', 'voneinander', 'entfernt:', 'Am', 'Dienstag', 'ist', 'in', 'Gutach', 'die', 'neue', 'B', '33-Fußgängerampel', 'am', 'Dorfparkplatz', 'in', 'Betrieb', 'genommen', 'worden', '-', 'in', 'Sichtweite', 'der', 'älteren', 'Rathausampel.']\n",
    "tran = ['.']"
   ]
  },
  {
   "cell_type": "code",
   "execution_count": 7,
   "metadata": {},
   "outputs": [],
   "source": [
    "translation_list = ['Sie werden nicht einmal 100 mete', 'Sie wurden nicht einmal 100 mete', 'Es wurde nicht einmal 100 meter', 'Es wird nicht einmal 100 meter', 'Sie werden nicht einmal 100 mee', 'Herr präsident, meine damen und', '. – herr präsident, herr kommiss', '. – herr präsident', '.', '.']"
   ]
  },
  {
   "cell_type": "code",
   "execution_count": 8,
   "metadata": {},
   "outputs": [],
   "source": [
    "reference = ['Sie stehen keine 100 Meter voneinander entfernt: Am Dienstag ist in Gutach die neue B 33-Fußgängerampel am Dorfparkplatz in Betrieb genommen worden - in Sichtweite der älteren Rathausampel.']"
   ]
  },
  {
   "cell_type": "code",
   "execution_count": 15,
   "metadata": {},
   "outputs": [
    {
     "name": "stdout",
     "output_type": "stream",
     "text": [
      "['Sie', 'stehen', 'keine', '100', 'Meter', 'voneinander', 'entfernt:', 'Am', 'Dienstag', 'ist', 'in', 'Gutach', 'die', 'neue', 'B', '33-Fußgängerampel', 'am', 'Dorfparkplatz', 'in', 'Betrieb', 'genommen', 'worden', '-', 'in', 'Sichtweite', 'der', 'älteren', 'Rathausampel.'] ['.']\n"
     ]
    },
    {
     "ename": "ZeroDivisionError",
     "evalue": "float division by zero",
     "output_type": "error",
     "traceback": [
      "\u001b[0;31m---------------------------------------------------------------------------\u001b[0m",
      "\u001b[0;31mZeroDivisionError\u001b[0m                         Traceback (most recent call last)",
      "\u001b[0;32m<ipython-input-15-cca54656a8ec>\u001b[0m in \u001b[0;36m<module>\u001b[0;34m\u001b[0m\n\u001b[0;32m----> 1\u001b[0;31m \u001b[0mbleu_compute\u001b[0m\u001b[0;34m(\u001b[0m\u001b[0mreference\u001b[0m\u001b[0;34m[\u001b[0m\u001b[0;36m0\u001b[0m\u001b[0;34m]\u001b[0m\u001b[0;34m,\u001b[0m \u001b[0mtran\u001b[0m\u001b[0;34m[\u001b[0m\u001b[0;36m0\u001b[0m\u001b[0;34m]\u001b[0m\u001b[0;34m)\u001b[0m\u001b[0;34m\u001b[0m\u001b[0;34m\u001b[0m\u001b[0m\n\u001b[0m",
      "\u001b[0;32m<ipython-input-10-5210ad26b1a4>\u001b[0m in \u001b[0;36mbleu_compute\u001b[0;34m(reference, translation)\u001b[0m\n\u001b[1;32m      7\u001b[0m     \u001b[0mtranslation\u001b[0m \u001b[0;34m=\u001b[0m \u001b[0mtranslation\u001b[0m\u001b[0;34m.\u001b[0m\u001b[0msplit\u001b[0m\u001b[0;34m(\u001b[0m\u001b[0;34m)\u001b[0m\u001b[0;34m\u001b[0m\u001b[0;34m\u001b[0m\u001b[0m\n\u001b[1;32m      8\u001b[0m     \u001b[0mprint\u001b[0m\u001b[0;34m(\u001b[0m\u001b[0mreference\u001b[0m\u001b[0;34m,\u001b[0m \u001b[0mtranslation\u001b[0m\u001b[0;34m)\u001b[0m\u001b[0;34m\u001b[0m\u001b[0;34m\u001b[0m\u001b[0m\n\u001b[0;32m----> 9\u001b[0;31m     \u001b[0;32mreturn\u001b[0m \u001b[0mcorpus_bleu\u001b[0m\u001b[0;34m(\u001b[0m\u001b[0;34m[\u001b[0m\u001b[0mreference\u001b[0m\u001b[0;34m]\u001b[0m\u001b[0;34m,\u001b[0m \u001b[0;34m[\u001b[0m\u001b[0mtranslation\u001b[0m\u001b[0;34m]\u001b[0m\u001b[0;34m,\u001b[0m \u001b[0msmoothing_function\u001b[0m\u001b[0;34m=\u001b[0m\u001b[0mSmoothingFunction\u001b[0m\u001b[0;34m(\u001b[0m\u001b[0;34m)\u001b[0m\u001b[0;34m.\u001b[0m\u001b[0mmethod7\u001b[0m\u001b[0;34m,\u001b[0m \u001b[0mweights\u001b[0m\u001b[0;34m=\u001b[0m\u001b[0;34m[\u001b[0m\u001b[0;36m1.\u001b[0m\u001b[0;34m/\u001b[0m\u001b[0;36m3\u001b[0m\u001b[0;34m,\u001b[0m \u001b[0;36m1.\u001b[0m\u001b[0;34m/\u001b[0m\u001b[0;36m3\u001b[0m\u001b[0;34m,\u001b[0m \u001b[0;36m1.\u001b[0m\u001b[0;34m/\u001b[0m\u001b[0;36m3\u001b[0m\u001b[0;34m]\u001b[0m\u001b[0;34m)\u001b[0m\u001b[0;34m\u001b[0m\u001b[0;34m\u001b[0m\u001b[0m\n\u001b[0m\u001b[1;32m     10\u001b[0m \u001b[0;34m\u001b[0m\u001b[0m\n\u001b[1;32m     11\u001b[0m \u001b[0;32mdef\u001b[0m \u001b[0mrfb_compute\u001b[0m\u001b[0;34m(\u001b[0m\u001b[0mbleu_score_list\u001b[0m\u001b[0;34m)\u001b[0m\u001b[0;34m:\u001b[0m\u001b[0;34m\u001b[0m\u001b[0;34m\u001b[0m\u001b[0m\n",
      "\u001b[0;32m/usr/local/lib/python3.6/dist-packages/nltk/translate/bleu_score.py\u001b[0m in \u001b[0;36mcorpus_bleu\u001b[0;34m(list_of_references, hypotheses, weights, smoothing_function, auto_reweigh)\u001b[0m\n\u001b[1;32m    222\u001b[0m     \u001b[0;31m#       smoothing method allows.\u001b[0m\u001b[0;34m\u001b[0m\u001b[0;34m\u001b[0m\u001b[0;34m\u001b[0m\u001b[0m\n\u001b[1;32m    223\u001b[0m     p_n = smoothing_function(\n\u001b[0;32m--> 224\u001b[0;31m         \u001b[0mp_n\u001b[0m\u001b[0;34m,\u001b[0m \u001b[0mreferences\u001b[0m\u001b[0;34m=\u001b[0m\u001b[0mreferences\u001b[0m\u001b[0;34m,\u001b[0m \u001b[0mhypothesis\u001b[0m\u001b[0;34m=\u001b[0m\u001b[0mhypothesis\u001b[0m\u001b[0;34m,\u001b[0m \u001b[0mhyp_len\u001b[0m\u001b[0;34m=\u001b[0m\u001b[0mhyp_lengths\u001b[0m\u001b[0;34m\u001b[0m\u001b[0;34m\u001b[0m\u001b[0m\n\u001b[0m\u001b[1;32m    225\u001b[0m     )\n\u001b[1;32m    226\u001b[0m     \u001b[0ms\u001b[0m \u001b[0;34m=\u001b[0m \u001b[0;34m(\u001b[0m\u001b[0mw_i\u001b[0m \u001b[0;34m*\u001b[0m \u001b[0mmath\u001b[0m\u001b[0;34m.\u001b[0m\u001b[0mlog\u001b[0m\u001b[0;34m(\u001b[0m\u001b[0mp_i\u001b[0m\u001b[0;34m)\u001b[0m \u001b[0;32mfor\u001b[0m \u001b[0mw_i\u001b[0m\u001b[0;34m,\u001b[0m \u001b[0mp_i\u001b[0m \u001b[0;32min\u001b[0m \u001b[0mzip\u001b[0m\u001b[0;34m(\u001b[0m\u001b[0mweights\u001b[0m\u001b[0;34m,\u001b[0m \u001b[0mp_n\u001b[0m\u001b[0;34m)\u001b[0m\u001b[0;34m)\u001b[0m\u001b[0;34m\u001b[0m\u001b[0;34m\u001b[0m\u001b[0m\n",
      "\u001b[0;32m/usr/local/lib/python3.6/dist-packages/nltk/translate/bleu_score.py\u001b[0m in \u001b[0;36mmethod7\u001b[0;34m(self, p_n, references, hypothesis, hyp_len, *args, **kwargs)\u001b[0m\n\u001b[1;32m    638\u001b[0m         \u001b[0mInterpolates\u001b[0m \u001b[0mmethods\u001b[0m \u001b[0;36m5\u001b[0m \u001b[0;32mand\u001b[0m \u001b[0;36m6.\u001b[0m\u001b[0;34m\u001b[0m\u001b[0;34m\u001b[0m\u001b[0m\n\u001b[1;32m    639\u001b[0m         \"\"\"\n\u001b[0;32m--> 640\u001b[0;31m         \u001b[0mp_n\u001b[0m \u001b[0;34m=\u001b[0m \u001b[0mself\u001b[0m\u001b[0;34m.\u001b[0m\u001b[0mmethod4\u001b[0m\u001b[0;34m(\u001b[0m\u001b[0mp_n\u001b[0m\u001b[0;34m,\u001b[0m \u001b[0mreferences\u001b[0m\u001b[0;34m,\u001b[0m \u001b[0mhypothesis\u001b[0m\u001b[0;34m,\u001b[0m \u001b[0mhyp_len\u001b[0m\u001b[0;34m)\u001b[0m\u001b[0;34m\u001b[0m\u001b[0;34m\u001b[0m\u001b[0m\n\u001b[0m\u001b[1;32m    641\u001b[0m         \u001b[0mp_n\u001b[0m \u001b[0;34m=\u001b[0m \u001b[0mself\u001b[0m\u001b[0;34m.\u001b[0m\u001b[0mmethod5\u001b[0m\u001b[0;34m(\u001b[0m\u001b[0mp_n\u001b[0m\u001b[0;34m,\u001b[0m \u001b[0mreferences\u001b[0m\u001b[0;34m,\u001b[0m \u001b[0mhypothesis\u001b[0m\u001b[0;34m,\u001b[0m \u001b[0mhyp_len\u001b[0m\u001b[0;34m)\u001b[0m\u001b[0;34m\u001b[0m\u001b[0;34m\u001b[0m\u001b[0m\n\u001b[1;32m    642\u001b[0m         \u001b[0;32mreturn\u001b[0m \u001b[0mp_n\u001b[0m\u001b[0;34m\u001b[0m\u001b[0;34m\u001b[0m\u001b[0m\n",
      "\u001b[0;32m/usr/local/lib/python3.6/dist-packages/nltk/translate/bleu_score.py\u001b[0m in \u001b[0;36mmethod4\u001b[0;34m(self, p_n, references, hypothesis, hyp_len, *args, **kwargs)\u001b[0m\n\u001b[1;32m    586\u001b[0m             \u001b[0;32mif\u001b[0m \u001b[0mp_i\u001b[0m\u001b[0;34m.\u001b[0m\u001b[0mnumerator\u001b[0m \u001b[0;34m==\u001b[0m \u001b[0;36m0\u001b[0m \u001b[0;32mand\u001b[0m \u001b[0mhyp_len\u001b[0m \u001b[0;34m!=\u001b[0m \u001b[0;36m0\u001b[0m\u001b[0;34m:\u001b[0m\u001b[0;34m\u001b[0m\u001b[0;34m\u001b[0m\u001b[0m\n\u001b[1;32m    587\u001b[0m                 incvnt = i + 1 * self.k / math.log(\n\u001b[0;32m--> 588\u001b[0;31m                     \u001b[0mhyp_len\u001b[0m\u001b[0;34m\u001b[0m\u001b[0;34m\u001b[0m\u001b[0m\n\u001b[0m\u001b[1;32m    589\u001b[0m                 )  # Note that this K is different from the K from NIST.\n\u001b[1;32m    590\u001b[0m                 \u001b[0mp_n\u001b[0m\u001b[0;34m[\u001b[0m\u001b[0mi\u001b[0m\u001b[0;34m]\u001b[0m \u001b[0;34m=\u001b[0m \u001b[0;36m1\u001b[0m \u001b[0;34m/\u001b[0m \u001b[0mincvnt\u001b[0m\u001b[0;34m\u001b[0m\u001b[0;34m\u001b[0m\u001b[0m\n",
      "\u001b[0;31mZeroDivisionError\u001b[0m: float division by zero"
     ]
    }
   ],
   "source": [
    "bleu_compute(reference[0], tran[0])"
   ]
  },
  {
   "cell_type": "code",
   "execution_count": 11,
   "metadata": {},
   "outputs": [
    {
     "name": "stdout",
     "output_type": "stream",
     "text": [
      "['Sie', 'stehen', 'keine', '100', 'Meter', 'voneinander', 'entfernt:', 'Am', 'Dienstag', 'ist', 'in', 'Gutach', 'die', 'neue', 'B', '33-Fußgängerampel', 'am', 'Dorfparkplatz', 'in', 'Betrieb', 'genommen', 'worden', '-', 'in', 'Sichtweite', 'der', 'älteren', 'Rathausampel.'] ['Sie', 'werden', 'nicht', 'einmal', '100', 'mete']\n",
      "['Sie', 'stehen', 'keine', '100', 'Meter', 'voneinander', 'entfernt:', 'Am', 'Dienstag', 'ist', 'in', 'Gutach', 'die', 'neue', 'B', '33-Fußgängerampel', 'am', 'Dorfparkplatz', 'in', 'Betrieb', 'genommen', 'worden', '-', 'in', 'Sichtweite', 'der', 'älteren', 'Rathausampel.'] ['Sie', 'wurden', 'nicht', 'einmal', '100', 'mete']\n",
      "['Sie', 'stehen', 'keine', '100', 'Meter', 'voneinander', 'entfernt:', 'Am', 'Dienstag', 'ist', 'in', 'Gutach', 'die', 'neue', 'B', '33-Fußgängerampel', 'am', 'Dorfparkplatz', 'in', 'Betrieb', 'genommen', 'worden', '-', 'in', 'Sichtweite', 'der', 'älteren', 'Rathausampel.'] ['Es', 'wurde', 'nicht', 'einmal', '100', 'meter']\n",
      "['Sie', 'stehen', 'keine', '100', 'Meter', 'voneinander', 'entfernt:', 'Am', 'Dienstag', 'ist', 'in', 'Gutach', 'die', 'neue', 'B', '33-Fußgängerampel', 'am', 'Dorfparkplatz', 'in', 'Betrieb', 'genommen', 'worden', '-', 'in', 'Sichtweite', 'der', 'älteren', 'Rathausampel.'] ['Es', 'wird', 'nicht', 'einmal', '100', 'meter']\n",
      "['Sie', 'stehen', 'keine', '100', 'Meter', 'voneinander', 'entfernt:', 'Am', 'Dienstag', 'ist', 'in', 'Gutach', 'die', 'neue', 'B', '33-Fußgängerampel', 'am', 'Dorfparkplatz', 'in', 'Betrieb', 'genommen', 'worden', '-', 'in', 'Sichtweite', 'der', 'älteren', 'Rathausampel.'] ['Sie', 'werden', 'nicht', 'einmal', '100', 'mee']\n",
      "['Sie', 'stehen', 'keine', '100', 'Meter', 'voneinander', 'entfernt:', 'Am', 'Dienstag', 'ist', 'in', 'Gutach', 'die', 'neue', 'B', '33-Fußgängerampel', 'am', 'Dorfparkplatz', 'in', 'Betrieb', 'genommen', 'worden', '-', 'in', 'Sichtweite', 'der', 'älteren', 'Rathausampel.'] ['Herr', 'präsident,', 'meine', 'damen', 'und']\n",
      "['Sie', 'stehen', 'keine', '100', 'Meter', 'voneinander', 'entfernt:', 'Am', 'Dienstag', 'ist', 'in', 'Gutach', 'die', 'neue', 'B', '33-Fußgängerampel', 'am', 'Dorfparkplatz', 'in', 'Betrieb', 'genommen', 'worden', '-', 'in', 'Sichtweite', 'der', 'älteren', 'Rathausampel.'] ['.', '–', 'herr', 'präsident,', 'herr', 'kommiss']\n",
      "['Sie', 'stehen', 'keine', '100', 'Meter', 'voneinander', 'entfernt:', 'Am', 'Dienstag', 'ist', 'in', 'Gutach', 'die', 'neue', 'B', '33-Fußgängerampel', 'am', 'Dorfparkplatz', 'in', 'Betrieb', 'genommen', 'worden', '-', 'in', 'Sichtweite', 'der', 'älteren', 'Rathausampel.'] ['.', '–', 'herr', 'präsident']\n",
      "['Sie', 'stehen', 'keine', '100', 'Meter', 'voneinander', 'entfernt:', 'Am', 'Dienstag', 'ist', 'in', 'Gutach', 'die', 'neue', 'B', '33-Fußgängerampel', 'am', 'Dorfparkplatz', 'in', 'Betrieb', 'genommen', 'worden', '-', 'in', 'Sichtweite', 'der', 'älteren', 'Rathausampel.'] ['.']\n"
     ]
    },
    {
     "ename": "ZeroDivisionError",
     "evalue": "float division by zero",
     "output_type": "error",
     "traceback": [
      "\u001b[0;31m---------------------------------------------------------------------------\u001b[0m",
      "\u001b[0;31mZeroDivisionError\u001b[0m                         Traceback (most recent call last)",
      "\u001b[0;32m<ipython-input-11-c08599bb701a>\u001b[0m in \u001b[0;36m<module>\u001b[0;34m\u001b[0m\n\u001b[1;32m      1\u001b[0m \u001b[0mbleu_result\u001b[0m \u001b[0;34m=\u001b[0m \u001b[0;34m[\u001b[0m\u001b[0;34m]\u001b[0m\u001b[0;34m\u001b[0m\u001b[0;34m\u001b[0m\u001b[0m\n\u001b[1;32m      2\u001b[0m \u001b[0;32mfor\u001b[0m \u001b[0meach\u001b[0m \u001b[0;32min\u001b[0m \u001b[0mtranslation_list\u001b[0m\u001b[0;34m:\u001b[0m\u001b[0;34m\u001b[0m\u001b[0;34m\u001b[0m\u001b[0m\n\u001b[0;32m----> 3\u001b[0;31m     \u001b[0mbleu_result\u001b[0m\u001b[0;34m.\u001b[0m\u001b[0mappend\u001b[0m\u001b[0;34m(\u001b[0m\u001b[0mbleu_compute\u001b[0m\u001b[0;34m(\u001b[0m\u001b[0mreference\u001b[0m\u001b[0;34m[\u001b[0m\u001b[0;36m0\u001b[0m\u001b[0;34m]\u001b[0m\u001b[0;34m,\u001b[0m \u001b[0meach\u001b[0m\u001b[0;34m)\u001b[0m\u001b[0;34m)\u001b[0m\u001b[0;34m\u001b[0m\u001b[0;34m\u001b[0m\u001b[0m\n\u001b[0m",
      "\u001b[0;32m<ipython-input-10-5210ad26b1a4>\u001b[0m in \u001b[0;36mbleu_compute\u001b[0;34m(reference, translation)\u001b[0m\n\u001b[1;32m      7\u001b[0m     \u001b[0mtranslation\u001b[0m \u001b[0;34m=\u001b[0m \u001b[0mtranslation\u001b[0m\u001b[0;34m.\u001b[0m\u001b[0msplit\u001b[0m\u001b[0;34m(\u001b[0m\u001b[0;34m)\u001b[0m\u001b[0;34m\u001b[0m\u001b[0;34m\u001b[0m\u001b[0m\n\u001b[1;32m      8\u001b[0m     \u001b[0mprint\u001b[0m\u001b[0;34m(\u001b[0m\u001b[0mreference\u001b[0m\u001b[0;34m,\u001b[0m \u001b[0mtranslation\u001b[0m\u001b[0;34m)\u001b[0m\u001b[0;34m\u001b[0m\u001b[0;34m\u001b[0m\u001b[0m\n\u001b[0;32m----> 9\u001b[0;31m     \u001b[0;32mreturn\u001b[0m \u001b[0mcorpus_bleu\u001b[0m\u001b[0;34m(\u001b[0m\u001b[0;34m[\u001b[0m\u001b[0mreference\u001b[0m\u001b[0;34m]\u001b[0m\u001b[0;34m,\u001b[0m \u001b[0;34m[\u001b[0m\u001b[0mtranslation\u001b[0m\u001b[0;34m]\u001b[0m\u001b[0;34m,\u001b[0m \u001b[0msmoothing_function\u001b[0m\u001b[0;34m=\u001b[0m\u001b[0mSmoothingFunction\u001b[0m\u001b[0;34m(\u001b[0m\u001b[0;34m)\u001b[0m\u001b[0;34m.\u001b[0m\u001b[0mmethod7\u001b[0m\u001b[0;34m,\u001b[0m \u001b[0mweights\u001b[0m\u001b[0;34m=\u001b[0m\u001b[0;34m[\u001b[0m\u001b[0;36m1.\u001b[0m\u001b[0;34m/\u001b[0m\u001b[0;36m3\u001b[0m\u001b[0;34m,\u001b[0m \u001b[0;36m1.\u001b[0m\u001b[0;34m/\u001b[0m\u001b[0;36m3\u001b[0m\u001b[0;34m,\u001b[0m \u001b[0;36m1.\u001b[0m\u001b[0;34m/\u001b[0m\u001b[0;36m3\u001b[0m\u001b[0;34m]\u001b[0m\u001b[0;34m)\u001b[0m\u001b[0;34m\u001b[0m\u001b[0;34m\u001b[0m\u001b[0m\n\u001b[0m\u001b[1;32m     10\u001b[0m \u001b[0;34m\u001b[0m\u001b[0m\n\u001b[1;32m     11\u001b[0m \u001b[0;32mdef\u001b[0m \u001b[0mrfb_compute\u001b[0m\u001b[0;34m(\u001b[0m\u001b[0mbleu_score_list\u001b[0m\u001b[0;34m)\u001b[0m\u001b[0;34m:\u001b[0m\u001b[0;34m\u001b[0m\u001b[0;34m\u001b[0m\u001b[0m\n",
      "\u001b[0;32m/usr/local/lib/python3.6/dist-packages/nltk/translate/bleu_score.py\u001b[0m in \u001b[0;36mcorpus_bleu\u001b[0;34m(list_of_references, hypotheses, weights, smoothing_function, auto_reweigh)\u001b[0m\n\u001b[1;32m    222\u001b[0m     \u001b[0;31m#       smoothing method allows.\u001b[0m\u001b[0;34m\u001b[0m\u001b[0;34m\u001b[0m\u001b[0;34m\u001b[0m\u001b[0m\n\u001b[1;32m    223\u001b[0m     p_n = smoothing_function(\n\u001b[0;32m--> 224\u001b[0;31m         \u001b[0mp_n\u001b[0m\u001b[0;34m,\u001b[0m \u001b[0mreferences\u001b[0m\u001b[0;34m=\u001b[0m\u001b[0mreferences\u001b[0m\u001b[0;34m,\u001b[0m \u001b[0mhypothesis\u001b[0m\u001b[0;34m=\u001b[0m\u001b[0mhypothesis\u001b[0m\u001b[0;34m,\u001b[0m \u001b[0mhyp_len\u001b[0m\u001b[0;34m=\u001b[0m\u001b[0mhyp_lengths\u001b[0m\u001b[0;34m\u001b[0m\u001b[0;34m\u001b[0m\u001b[0m\n\u001b[0m\u001b[1;32m    225\u001b[0m     )\n\u001b[1;32m    226\u001b[0m     \u001b[0ms\u001b[0m \u001b[0;34m=\u001b[0m \u001b[0;34m(\u001b[0m\u001b[0mw_i\u001b[0m \u001b[0;34m*\u001b[0m \u001b[0mmath\u001b[0m\u001b[0;34m.\u001b[0m\u001b[0mlog\u001b[0m\u001b[0;34m(\u001b[0m\u001b[0mp_i\u001b[0m\u001b[0;34m)\u001b[0m \u001b[0;32mfor\u001b[0m \u001b[0mw_i\u001b[0m\u001b[0;34m,\u001b[0m \u001b[0mp_i\u001b[0m \u001b[0;32min\u001b[0m \u001b[0mzip\u001b[0m\u001b[0;34m(\u001b[0m\u001b[0mweights\u001b[0m\u001b[0;34m,\u001b[0m \u001b[0mp_n\u001b[0m\u001b[0;34m)\u001b[0m\u001b[0;34m)\u001b[0m\u001b[0;34m\u001b[0m\u001b[0;34m\u001b[0m\u001b[0m\n",
      "\u001b[0;32m/usr/local/lib/python3.6/dist-packages/nltk/translate/bleu_score.py\u001b[0m in \u001b[0;36mmethod7\u001b[0;34m(self, p_n, references, hypothesis, hyp_len, *args, **kwargs)\u001b[0m\n\u001b[1;32m    638\u001b[0m         \u001b[0mInterpolates\u001b[0m \u001b[0mmethods\u001b[0m \u001b[0;36m5\u001b[0m \u001b[0;32mand\u001b[0m \u001b[0;36m6.\u001b[0m\u001b[0;34m\u001b[0m\u001b[0;34m\u001b[0m\u001b[0m\n\u001b[1;32m    639\u001b[0m         \"\"\"\n\u001b[0;32m--> 640\u001b[0;31m         \u001b[0mp_n\u001b[0m \u001b[0;34m=\u001b[0m \u001b[0mself\u001b[0m\u001b[0;34m.\u001b[0m\u001b[0mmethod4\u001b[0m\u001b[0;34m(\u001b[0m\u001b[0mp_n\u001b[0m\u001b[0;34m,\u001b[0m \u001b[0mreferences\u001b[0m\u001b[0;34m,\u001b[0m \u001b[0mhypothesis\u001b[0m\u001b[0;34m,\u001b[0m \u001b[0mhyp_len\u001b[0m\u001b[0;34m)\u001b[0m\u001b[0;34m\u001b[0m\u001b[0;34m\u001b[0m\u001b[0m\n\u001b[0m\u001b[1;32m    641\u001b[0m         \u001b[0mp_n\u001b[0m \u001b[0;34m=\u001b[0m \u001b[0mself\u001b[0m\u001b[0;34m.\u001b[0m\u001b[0mmethod5\u001b[0m\u001b[0;34m(\u001b[0m\u001b[0mp_n\u001b[0m\u001b[0;34m,\u001b[0m \u001b[0mreferences\u001b[0m\u001b[0;34m,\u001b[0m \u001b[0mhypothesis\u001b[0m\u001b[0;34m,\u001b[0m \u001b[0mhyp_len\u001b[0m\u001b[0;34m)\u001b[0m\u001b[0;34m\u001b[0m\u001b[0;34m\u001b[0m\u001b[0m\n\u001b[1;32m    642\u001b[0m         \u001b[0;32mreturn\u001b[0m \u001b[0mp_n\u001b[0m\u001b[0;34m\u001b[0m\u001b[0;34m\u001b[0m\u001b[0m\n",
      "\u001b[0;32m/usr/local/lib/python3.6/dist-packages/nltk/translate/bleu_score.py\u001b[0m in \u001b[0;36mmethod4\u001b[0;34m(self, p_n, references, hypothesis, hyp_len, *args, **kwargs)\u001b[0m\n\u001b[1;32m    586\u001b[0m             \u001b[0;32mif\u001b[0m \u001b[0mp_i\u001b[0m\u001b[0;34m.\u001b[0m\u001b[0mnumerator\u001b[0m \u001b[0;34m==\u001b[0m \u001b[0;36m0\u001b[0m \u001b[0;32mand\u001b[0m \u001b[0mhyp_len\u001b[0m \u001b[0;34m!=\u001b[0m \u001b[0;36m0\u001b[0m\u001b[0;34m:\u001b[0m\u001b[0;34m\u001b[0m\u001b[0;34m\u001b[0m\u001b[0m\n\u001b[1;32m    587\u001b[0m                 incvnt = i + 1 * self.k / math.log(\n\u001b[0;32m--> 588\u001b[0;31m                     \u001b[0mhyp_len\u001b[0m\u001b[0;34m\u001b[0m\u001b[0;34m\u001b[0m\u001b[0m\n\u001b[0m\u001b[1;32m    589\u001b[0m                 )  # Note that this K is different from the K from NIST.\n\u001b[1;32m    590\u001b[0m                 \u001b[0mp_n\u001b[0m\u001b[0;34m[\u001b[0m\u001b[0mi\u001b[0m\u001b[0;34m]\u001b[0m \u001b[0;34m=\u001b[0m \u001b[0;36m1\u001b[0m \u001b[0;34m/\u001b[0m \u001b[0mincvnt\u001b[0m\u001b[0;34m\u001b[0m\u001b[0;34m\u001b[0m\u001b[0m\n",
      "\u001b[0;31mZeroDivisionError\u001b[0m: float division by zero"
     ]
    }
   ],
   "source": [
    "bleu_result = []\n",
    "for each in translation_list:\n",
    "    bleu_result.append(bleu_compute(reference[0], each))"
   ]
  },
  {
   "cell_type": "code",
   "execution_count": 8,
   "metadata": {},
   "outputs": [],
   "source": [
    "rfb_result = rfb_compute(bleu_result)"
   ]
  },
  {
   "cell_type": "code",
   "execution_count": 9,
   "metadata": {},
   "outputs": [
    {
     "name": "stdout",
     "output_type": "stream",
     "text": [
      "0.32374024018755365\n"
     ]
    }
   ],
   "source": [
    "print(rfb_result)"
   ]
  },
  {
   "cell_type": "code",
   "execution_count": 10,
   "metadata": {},
   "outputs": [],
   "source": [
    "pwb_result = pwb_compute(translation_list)"
   ]
  },
  {
   "cell_type": "code",
   "execution_count": 11,
   "metadata": {},
   "outputs": [
    {
     "name": "stdout",
     "output_type": "stream",
     "text": [
      "0.4939308819058551\n"
     ]
    }
   ],
   "source": [
    "print(pwb_result)"
   ]
  },
  {
   "cell_type": "code",
   "execution_count": null,
   "metadata": {},
   "outputs": [],
   "source": []
  }
 ],
 "metadata": {
  "kernelspec": {
   "display_name": "Python 3",
   "language": "python",
   "name": "python3"
  },
  "language_info": {
   "codemirror_mode": {
    "name": "ipython",
    "version": 3
   },
   "file_extension": ".py",
   "mimetype": "text/x-python",
   "name": "python",
   "nbconvert_exporter": "python",
   "pygments_lexer": "ipython3",
   "version": "3.6.9"
  }
 },
 "nbformat": 4,
 "nbformat_minor": 4
}
