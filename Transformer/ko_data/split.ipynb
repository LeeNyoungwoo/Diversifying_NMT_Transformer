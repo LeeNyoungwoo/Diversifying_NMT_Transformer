{
 "cells": [
  {
   "cell_type": "code",
   "execution_count": 24,
   "metadata": {},
   "outputs": [],
   "source": [
    "with open('source_ko-en.ko', encoding='utf-8') as f:\n",
    "    tgt_corpus = [line.strip().split('\\n') for line in f.readlines()]"
   ]
  },
  {
   "cell_type": "code",
   "execution_count": 26,
   "metadata": {},
   "outputs": [
    {
     "name": "stdout",
     "output_type": "stream",
     "text": [
      "48.1718013672485\n"
     ]
    }
   ],
   "source": [
    "sum = 0\n",
    "for data in tgt_corpus:\n",
    "    sum += len(data[0])\n",
    "print(sum / len(tgt_corpus))"
   ]
  },
  {
   "cell_type": "code",
   "execution_count": 27,
   "metadata": {},
   "outputs": [],
   "source": [
    "with open('target_ko-en.en', encoding='utf-8') as f:\n",
    "    src_corpus = [line.strip().split('\\n') for line in f.readlines()]"
   ]
  },
  {
   "cell_type": "code",
   "execution_count": 28,
   "metadata": {},
   "outputs": [
    {
     "name": "stdout",
     "output_type": "stream",
     "text": [
      "91.53967449769233\n"
     ]
    }
   ],
   "source": [
    "sum = 0\n",
    "for data in src_corpus:\n",
    "    sum += len(data[0])\n",
    "print(sum / len(src_corpus))"
   ]
  },
  {
   "cell_type": "code",
   "execution_count": 18,
   "metadata": {},
   "outputs": [
    {
     "name": "stdout",
     "output_type": "stream",
     "text": [
      "100859 100859\n",
      "28817 28817\n",
      "14409 14409\n"
     ]
    }
   ],
   "source": [
    "from sklearn.utils import shuffle\n",
    "split = [0.7,0.2,0.1]\n",
    "dataset_size = len(src_corpus)\n",
    "cut = int(dataset_size * split[0])\n",
    "cut2 = int(dataset_size * (split[0] + split[1]))\n",
    "\n",
    "src_data, tgt_data = shuffle(src_corpus, tgt_corpus)\n",
    "train_src_corpus, train_tgt_corpus = src_data[0:cut], tgt_data[0:cut]\n",
    "dev_src_corpus, dev_tgt_corpus = src_data[cut:cut2], tgt_data[cut:cut2]\n",
    "test_src_corpus, test_tgt_corpus = src_data[cut2:], tgt_data[cut2:]\n",
    "\n",
    "print(len(train_src_corpus), len(train_tgt_corpus))\n",
    "print(len(dev_src_corpus), len(dev_tgt_corpus))\n",
    "print(len(test_src_corpus), len(test_tgt_corpus))"
   ]
  },
  {
   "cell_type": "code",
   "execution_count": 19,
   "metadata": {},
   "outputs": [],
   "source": [
    "def write_data(name, target):\n",
    "    with open(name, 'w') as file:\n",
    "        for data in target:\n",
    "            file.write(data[0]+'\\n')"
   ]
  },
  {
   "cell_type": "code",
   "execution_count": 20,
   "metadata": {},
   "outputs": [],
   "source": [
    "write_data('train_ko_en.en', train_src_corpus)\n",
    "write_data('train_ko_en.ko', train_tgt_corpus)\n",
    "write_data('dev_ko_en.en', dev_src_corpus)\n",
    "write_data('dev_ko_en.ko', dev_tgt_corpus)\n",
    "write_data('test_ko_en.en', test_src_corpus)\n",
    "write_data('test_ko_en.ko', test_tgt_corpus)"
   ]
  },
  {
   "cell_type": "code",
   "execution_count": null,
   "metadata": {},
   "outputs": [],
   "source": []
  }
 ],
 "metadata": {
  "kernelspec": {
   "display_name": "Python 3",
   "language": "python",
   "name": "python3"
  },
  "language_info": {
   "codemirror_mode": {
    "name": "ipython",
    "version": 3
   },
   "file_extension": ".py",
   "mimetype": "text/x-python",
   "name": "python",
   "nbconvert_exporter": "python",
   "pygments_lexer": "ipython3",
   "version": "3.6.9"
  }
 },
 "nbformat": 4,
 "nbformat_minor": 4
}
